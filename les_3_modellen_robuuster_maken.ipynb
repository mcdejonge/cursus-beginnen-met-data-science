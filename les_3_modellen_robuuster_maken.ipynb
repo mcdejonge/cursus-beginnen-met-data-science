{
 "cells": [
  {
   "cell_type": "markdown",
   "id": "15b27abe",
   "metadata": {},
   "source": [
    "# Les 3: Modellen robuuster maken\n",
    "\n",
    "In de voorgaande twee lessen hebben we gekeken hoe je modellen maakt. Nu gaan we leren hoe je ervoor zorgt dat je modellen betrouwbaar zijn.\n",
    "\n",
    "copy paste readme:\n",
    "\n",
    "Er zijn allemaal Data Science technieken die ervoor zorgen dat de modellen die je in de vorige les hebt leren maken, betrouwbaarder worden. Je leert hoe je de kwaliteit van je modellen vaststelt en vervolgens wat je moet doen om die kwaliteit te verbeteren. Ook leer je wat je moet doen als de hoeveelheid data die je tot je beschikking hebt beperkt is.\n",
    "\n",
    "#### Aan het einde van deze les kun je:\n",
    "\n",
    "- Vaststellen wat de kwaliteit is van je modellen.\n",
    "- Modellen robuuster en efficiënter maken.\n",
    "    \n",
    "#### Onderwerpen\n",
    "\n",
    "- Confusion matrices\n",
    "- Wat te doen met outliers en ontbrekende waarden?\n",
    "- Overfitting\n",
    "- Sampling density en feature selection\n",
    "- Train, test, validate"
   ]
  },
  {
   "cell_type": "markdown",
   "id": "a2aa359e",
   "metadata": {},
   "source": [
    "## Uitvoeren op Google Colab\n",
    "\n",
    "Dit notebook kan worden uitgevoerd op Google Colab. Hiervoor is een Google-account vereist.\n",
    "\n",
    "Klik op de knop \"Open in Google Colab\" om het notebook te openen in Google Colab:\n",
    "\n",
    "\n",
    "<a href=\"https://colab.research.google.com/github/mcdejonge/beginnen_met_data_science/blob/main/les_3_modellen_robuuster_maken.ipynb\" target=\"_parent\"><img src=\"https://colab.research.google.com/assets/colab-badge.svg\" alt=\"Open In Colab\"/></a>"
   ]
  },
  {
   "cell_type": "markdown",
   "id": "3304b4b7",
   "metadata": {},
   "source": [
    "In het codeblok hieronder worden alle bibliotheken ingeladen die in dit notebook worden gebruikt."
   ]
  },
  {
   "cell_type": "code",
   "execution_count": 8,
   "id": "e38eb19e",
   "metadata": {},
   "outputs": [],
   "source": [
    "import numpy as np\n",
    "import matplotlib.pyplot as plt\n",
    "import pandas as pd\n",
    "import scipy.stats as st\n",
    "import os\n",
    "from sklearn import metrics\n",
    "from sklearn.linear_model import LinearRegression\n",
    "from sklearn.cluster import KMeans\n",
    "from sklearn.tree import DecisionTreeClassifier\n",
    "from sklearn.tree import plot_tree"
   ]
  },
  {
   "cell_type": "markdown",
   "id": "ea04ff18",
   "metadata": {},
   "source": [
    "## 3.1 Hoe goed is je model?\n",
    "\n",
    "In les 2 hebben we al kennis gemaakt met de functie `score` voor modellen van het type `LinearModel`. Deze functie berekent een numerieke waarde die weergeeft hoe ver de voorspellingen van het model afwijken van de werkelijkheid.\n",
    "\n",
    "In veel gevallen is één enkel getal echter niet voldoende om inzicht te geven in de prestaties van een model. Voor classificatie-problemen (clustering) is het bijvoorbeeld niet alleen van belang om te weten hoeveel observaties er correct zijn voorspeld, maar ook aan welke categorie de *verkeerd* toegewezen observaties terecht zijn gekomen.\n",
    "\n",
    "Hiervoor gebruiken we een zogenoemde *confusion matrix*. Een dergelijke matrix geeft weer hoeveel observaties er correct is geplaatst in één van twee mogelijke clusters en ook per cluster hoeveel observaties er ten onrechte aan zijn toegewezen. De naam is afkomstig van het gegeven dat het model twee categorieën door elkaar haalt (to confuse = door elkaar halen)."
   ]
  },
  {
   "cell_type": "markdown",
   "id": "87b9975a",
   "metadata": {},
   "source": [
    "### 3.1.1 R2 (TODO, herhaling les 2)"
   ]
  },
  {
   "cell_type": "markdown",
   "id": "8ee15672",
   "metadata": {},
   "source": [
    "### 3.1.1 Confusion matrix\n",
    "\n",
    "Om uit te leggen wat een confusion matrix is en hoe je ermee werkt, gebruiken we opnieuw de supermarktdata uit de vorige les. Dit is data van een fictieve supermarkt waarin voor 10 klanten is vastgelegd hoeveel diepvriespizza's en pakken hagelslag ze hebben gekocht. In tegenstelling tot in de vorige les weten we nu echter ook of elke klant kinderen heeft of niet. Wat we nu willen gaan doen is een model maken dat voorspelt of een klant kinderen heeft of niet door uitsluitend te kijken naar zijn of haar koopgedrag voor diepvriespizza's en pakken hagelslag. De reden hiervoor is dat lang niet alle klanten geneigd zijn de supermarkt te vertellen of ze kinderen hebben of niet maar dat de supermarkt dat toch graag zou willen weten zodat ze gericht reclame kunnen maken voor producten die voor ouders met kinderen relevant zijn.\n",
    "\n",
    "Net als in de vorige les maken we een model met K-means clustering. Vervolgens maken we een confusion matrix om de kwaliteit van het model te beoordelen."
   ]
  },
  {
   "cell_type": "code",
   "execution_count": 9,
   "id": "91e63652",
   "metadata": {},
   "outputs": [
    {
     "data": {
      "text/html": [
       "<div>\n",
       "<style scoped>\n",
       "    .dataframe tbody tr th:only-of-type {\n",
       "        vertical-align: middle;\n",
       "    }\n",
       "\n",
       "    .dataframe tbody tr th {\n",
       "        vertical-align: top;\n",
       "    }\n",
       "\n",
       "    .dataframe thead th {\n",
       "        text-align: right;\n",
       "    }\n",
       "</style>\n",
       "<table border=\"1\" class=\"dataframe\">\n",
       "  <thead>\n",
       "    <tr style=\"text-align: right;\">\n",
       "      <th></th>\n",
       "      <th>klant</th>\n",
       "      <th>diepvriespizza</th>\n",
       "      <th>hagelslag</th>\n",
       "      <th>kinderen</th>\n",
       "    </tr>\n",
       "  </thead>\n",
       "  <tbody>\n",
       "    <tr>\n",
       "      <th>0</th>\n",
       "      <td>k1</td>\n",
       "      <td>5</td>\n",
       "      <td>9</td>\n",
       "      <td>1</td>\n",
       "    </tr>\n",
       "    <tr>\n",
       "      <th>1</th>\n",
       "      <td>k2</td>\n",
       "      <td>6</td>\n",
       "      <td>10</td>\n",
       "      <td>1</td>\n",
       "    </tr>\n",
       "    <tr>\n",
       "      <th>2</th>\n",
       "      <td>k3</td>\n",
       "      <td>4</td>\n",
       "      <td>8</td>\n",
       "      <td>1</td>\n",
       "    </tr>\n",
       "    <tr>\n",
       "      <th>3</th>\n",
       "      <td>k4</td>\n",
       "      <td>5</td>\n",
       "      <td>6</td>\n",
       "      <td>0</td>\n",
       "    </tr>\n",
       "    <tr>\n",
       "      <th>4</th>\n",
       "      <td>k5</td>\n",
       "      <td>3</td>\n",
       "      <td>8</td>\n",
       "      <td>1</td>\n",
       "    </tr>\n",
       "    <tr>\n",
       "      <th>5</th>\n",
       "      <td>k6</td>\n",
       "      <td>9</td>\n",
       "      <td>4</td>\n",
       "      <td>0</td>\n",
       "    </tr>\n",
       "    <tr>\n",
       "      <th>6</th>\n",
       "      <td>k7</td>\n",
       "      <td>11</td>\n",
       "      <td>3</td>\n",
       "      <td>0</td>\n",
       "    </tr>\n",
       "    <tr>\n",
       "      <th>7</th>\n",
       "      <td>k8</td>\n",
       "      <td>12</td>\n",
       "      <td>4</td>\n",
       "      <td>1</td>\n",
       "    </tr>\n",
       "    <tr>\n",
       "      <th>8</th>\n",
       "      <td>k9</td>\n",
       "      <td>14</td>\n",
       "      <td>2</td>\n",
       "      <td>0</td>\n",
       "    </tr>\n",
       "    <tr>\n",
       "      <th>9</th>\n",
       "      <td>k10</td>\n",
       "      <td>10</td>\n",
       "      <td>4</td>\n",
       "      <td>0</td>\n",
       "    </tr>\n",
       "  </tbody>\n",
       "</table>\n",
       "</div>"
      ],
      "text/plain": [
       "  klant  diepvriespizza  hagelslag  kinderen\n",
       "0    k1               5          9         1\n",
       "1    k2               6         10         1\n",
       "2    k3               4          8         1\n",
       "3    k4               5          6         0\n",
       "4    k5               3          8         1\n",
       "5    k6               9          4         0\n",
       "6    k7              11          3         0\n",
       "7    k8              12          4         1\n",
       "8    k9              14          2         0\n",
       "9   k10              10          4         0"
      ]
     },
     "execution_count": 9,
     "metadata": {},
     "output_type": "execute_result"
    }
   ],
   "source": [
    "# Inlezen van supermarktdata. \n",
    "if 'COLAB_GPU' in os.environ:\n",
    "    dfsuper = pd.read_csv(\"https://raw.githubusercontent.com/mcdejonge/beginnen_met_data_science/refs/heads/main/data/supermarkt.csv\")\n",
    "else:\n",
    "    dfsuper = pd.read_csv(\"data/supermarkt.csv\")\n",
    "dfsuper"
   ]
  },
  {
   "cell_type": "code",
   "execution_count": 10,
   "id": "c9e9a5e8",
   "metadata": {},
   "outputs": [
    {
     "data": {
      "text/html": [
       "<div>\n",
       "<style scoped>\n",
       "    .dataframe tbody tr th:only-of-type {\n",
       "        vertical-align: middle;\n",
       "    }\n",
       "\n",
       "    .dataframe tbody tr th {\n",
       "        vertical-align: top;\n",
       "    }\n",
       "\n",
       "    .dataframe thead th {\n",
       "        text-align: right;\n",
       "    }\n",
       "</style>\n",
       "<table border=\"1\" class=\"dataframe\">\n",
       "  <thead>\n",
       "    <tr style=\"text-align: right;\">\n",
       "      <th></th>\n",
       "      <th>klant</th>\n",
       "      <th>diepvriespizza</th>\n",
       "      <th>hagelslag</th>\n",
       "      <th>kinderen</th>\n",
       "      <th>cluster</th>\n",
       "    </tr>\n",
       "  </thead>\n",
       "  <tbody>\n",
       "    <tr>\n",
       "      <th>0</th>\n",
       "      <td>k1</td>\n",
       "      <td>5</td>\n",
       "      <td>9</td>\n",
       "      <td>1</td>\n",
       "      <td>0</td>\n",
       "    </tr>\n",
       "    <tr>\n",
       "      <th>1</th>\n",
       "      <td>k2</td>\n",
       "      <td>6</td>\n",
       "      <td>10</td>\n",
       "      <td>1</td>\n",
       "      <td>0</td>\n",
       "    </tr>\n",
       "    <tr>\n",
       "      <th>2</th>\n",
       "      <td>k3</td>\n",
       "      <td>4</td>\n",
       "      <td>8</td>\n",
       "      <td>1</td>\n",
       "      <td>0</td>\n",
       "    </tr>\n",
       "    <tr>\n",
       "      <th>3</th>\n",
       "      <td>k4</td>\n",
       "      <td>5</td>\n",
       "      <td>6</td>\n",
       "      <td>0</td>\n",
       "      <td>0</td>\n",
       "    </tr>\n",
       "    <tr>\n",
       "      <th>4</th>\n",
       "      <td>k5</td>\n",
       "      <td>3</td>\n",
       "      <td>8</td>\n",
       "      <td>1</td>\n",
       "      <td>0</td>\n",
       "    </tr>\n",
       "    <tr>\n",
       "      <th>5</th>\n",
       "      <td>k6</td>\n",
       "      <td>9</td>\n",
       "      <td>4</td>\n",
       "      <td>0</td>\n",
       "      <td>1</td>\n",
       "    </tr>\n",
       "    <tr>\n",
       "      <th>6</th>\n",
       "      <td>k7</td>\n",
       "      <td>11</td>\n",
       "      <td>3</td>\n",
       "      <td>0</td>\n",
       "      <td>1</td>\n",
       "    </tr>\n",
       "    <tr>\n",
       "      <th>7</th>\n",
       "      <td>k8</td>\n",
       "      <td>12</td>\n",
       "      <td>4</td>\n",
       "      <td>1</td>\n",
       "      <td>1</td>\n",
       "    </tr>\n",
       "    <tr>\n",
       "      <th>8</th>\n",
       "      <td>k9</td>\n",
       "      <td>14</td>\n",
       "      <td>2</td>\n",
       "      <td>0</td>\n",
       "      <td>1</td>\n",
       "    </tr>\n",
       "    <tr>\n",
       "      <th>9</th>\n",
       "      <td>k10</td>\n",
       "      <td>10</td>\n",
       "      <td>4</td>\n",
       "      <td>0</td>\n",
       "      <td>1</td>\n",
       "    </tr>\n",
       "  </tbody>\n",
       "</table>\n",
       "</div>"
      ],
      "text/plain": [
       "  klant  diepvriespizza  hagelslag  kinderen  cluster\n",
       "0    k1               5          9         1        0\n",
       "1    k2               6         10         1        0\n",
       "2    k3               4          8         1        0\n",
       "3    k4               5          6         0        0\n",
       "4    k5               3          8         1        0\n",
       "5    k6               9          4         0        1\n",
       "6    k7              11          3         0        1\n",
       "7    k8              12          4         1        1\n",
       "8    k9              14          2         0        1\n",
       "9   k10              10          4         0        1"
      ]
     },
     "execution_count": 10,
     "metadata": {},
     "output_type": "execute_result"
    }
   ],
   "source": [
    "# Net als in de vorige les maken we een nieuw KMeans-model aan dat onze data opdeelt in twee clusters.\n",
    "kmeans = KMeans(n_clusters = 2)\n",
    "# Train het model op de twee numerieke kolommen van de supermarktdata.\n",
    "kmeans.fit(dfsuper[['diepvriespizza', 'hagelslag']])\n",
    "\n",
    "# Voor het overzicht gebruiken we de functie `assign` om de voorspelde clusters te tonen naast de oorspronkelijke data\n",
    "dfsuper.assign(cluster = kmeans.labels_)"
   ]
  },
  {
   "cell_type": "markdown",
   "id": "e40227df",
   "metadata": {},
   "source": [
    "Op het oog zien we al dat het model vrij goed werkt maar dat de gevonden clusters niet helemaal overlappen met de waarde in de kolom \"kinderen\" (1 betekent: \"ja\" en 0 betekent: \"nee\").\n",
    "\n",
    "Een confusion matrix kan ons vertellen hoe groot het verschil precies is."
   ]
  },
  {
   "cell_type": "code",
   "execution_count": 13,
   "id": "eb1688ba",
   "metadata": {},
   "outputs": [
    {
     "data": {
      "text/plain": [
       "array([[1, 4],\n",
       "       [4, 1]])"
      ]
     },
     "execution_count": 13,
     "metadata": {},
     "output_type": "execute_result"
    }
   ],
   "source": [
    "confusion_matrix = metrics.confusion_matrix(dfsuper[['kinderen']], kmeans.labels_)\n",
    "confusion_matrix"
   ]
  },
  {
   "cell_type": "markdown",
   "id": "4687f3fe",
   "metadata": {},
   "source": [
    "De betekenis van deze vier getallen is de volgende:\n",
    "\n",
    "<img src=\"img/confusion_matrix.png\" width=\"80%\">\n",
    "\n",
    "Gegeven twee categorieën *positive* en *negative*:\n",
    "\n",
    "- **True Positive**: correct voorspeld als *positive*.\n",
    "- **True Negative**: correct voorspeld als *negative*.\n",
    "- **False Positive**: waarde is *negative* maar onterecht geclassificeerd als *positive*.\n",
    "- **False Negative**: waarde is *positive* maar onterecht geclassificeerd als *negative*.\n",
    "\n",
    "In het geval van de supermarktdata is er dus één klant die kinderen heeft maar waarvan het model beweert dat hij of zij dat niet heeft en één klant waarvan het model ten onrechte beweert dat hij of zij kinderen heeft. In cijfers uitgedrukt hebben we 20% van elke categorie (wel kinderen / geen kinderen) verkeerd voorspeld. Wanneer we dit model nu gaan gebruiken om aan 1000 klanten die in de categorie \"kinderen\" zijn geplaatst proefverpakkingen te sturen met, zeg, liga-koeken, dan verdwijnen er daarvan 200 in de prullebak (of leiden in ieder geval niet tot de aankoop van meer liga-koeken).\n",
    "\n",
    "Erger wordt het als we een medische test uitvoeren om te bepalen of iemand een aandoening heeft of niet. \"False positive\" betekent dan: \"heeft de aandoening niet maar wordt er toch voor behandeld\" - wat een groot probleem is als de behandeling ernstige bijwerkingen heeft. \"False negative\" (aandoening is niet opgemerkt en patiënt wordt er dus niet voor behandeld) is uiteraard ook erg onwenselijk.\n",
    "\n",
    "In de praktijk hangt het van de situatie af of een model met een bepaald aantal false positives of false negatives bruikbaar is of niet en waar de nadruk op moet worden gelegd (wat is erger: meer false positives of meer false negatives?). Een confusion matrix helpt je bepalen wat de kwaliteit van je model precies is zodat je een weloverwoge keuze kunt maken om het model daadwerkelijk in te zetten of om een compleet nieuw model te gaan trainen.\n"
   ]
  },
  {
   "cell_type": "markdown",
   "id": "5c7cb866",
   "metadata": {},
   "source": [
    "### 3.1.2 Code confusion matrix\n",
    "\n",
    "Helaas heeft Python geen functie aan boord om een mooie, goed leesbare confusion matrix te maken. Hiervoor zul je zelf wat in elkaar moeten knutselen.\n",
    "\n",
    "In de code hieronder is dat voor je gedaan. Wanneer je de functie `confusion_matrix_netjes` naar je eigen code kopieert (denk eraan dat je de bijbehorende imports meeneemt!) dan kun je deze aanroepen met als eerste parameter de daadwerkelijke waarden en als tweede parameter de voorspelde waarden."
   ]
  },
  {
   "cell_type": "code",
   "execution_count": null,
   "id": "9d05d79b",
   "metadata": {},
   "outputs": [
    {
     "data": {
      "image/png": "[encoded data removed]",
      "text/plain": [
       "<Figure size 640x480 with 2 Axes>"
      ]
     },
     "metadata": {},
     "output_type": "display_data"
    }
   ],
   "source": [
    "# Kopieer dit complete code-blok naar je eigen notebook als je de functie confusion_matrix_netjes wil gebruiken.\n",
    "import seaborn as sns\n",
    "import numpy as np\n",
    "from sklearn.metrics import confusion_matrix\n",
    "\n",
    "# De \n",
    "def confusion_matrix_netjes(echte_waarden, voorspelde_waarden):\n",
    "    \"\"\"\n",
    "    Functie om een \"nette\" confusion matrix weer te geven. De eerste parameter moet de echte waarden bevatten en de tweede parameter de voorspelde waarden. Maakt gebruik van de library \"seaborn\" (geïmporteerd als \"sns\"), de library numpy (geïmporteerd als \"np\") en van de functie \"confusion_matrix\" uit de library \"sklearn.\n",
    "    \"\"\"\n",
    "    try:\n",
    "        cf_matrix = confusion_matrix(echte_waarden, voorspelde_waarden)\n",
    "    except Exception as e:\n",
    "        print(\"Maken confusion matrix mislukt. Kloppen de parameters?\")\n",
    "        raise e\n",
    "    \n",
    "    labels = np.asarray(\n",
    "        ['True Neg {perc:.0f}%'.format(perc = (cf_matrix[0][0] / len(echte_waarden) * 100)), \n",
    "         'False Pos {perc:.0f}%'.format(perc = (cf_matrix[0][1] / len(echte_waarden) * 100)), \n",
    "         'False Neg {perc:.0f}%'.format(perc = (cf_matrix[1][0] / len(echte_waarden) * 100)), \n",
    "         'True Pos {perc:.0f}%'.format(perc = (cf_matrix[1][1] / len(echte_waarden) * 100))]).reshape(2, 2)\n",
    "    sns.heatmap(cf_matrix, annot = labels, fmt='', cmap = 'Blues')\n"
   ]
  },
  {
   "cell_type": "code",
   "execution_count": null,
   "id": "8974b3c7",
   "metadata": {},
   "outputs": [],
   "source": [
    "# Hier zien we een voorbeeld van een aanroep van de functie\n",
    "# confusion_matrix_netjes\n",
    "confusion_matrix_netjes(dfsuper[['kinderen']], kmeans.labels_)\n",
    "    \n"
   ]
  },
  {
   "cell_type": "markdown",
   "id": "8384a283",
   "metadata": {},
   "source": [
    "### 3.1.3 Opdracht TODO\n",
    "\n",
    "Gebruik de functie `confusion_matrix_netjes` om de kwaliteit vast te stellen van een model dat Gentoo-penguins herkent."
   ]
  },
  {
   "cell_type": "markdown",
   "id": "a9ac0528",
   "metadata": {},
   "source": [
    "## TODO ROC-Curve?"
   ]
  },
  {
   "cell_type": "markdown",
   "id": "df94dde5",
   "metadata": {},
   "source": [
    "## 3.2 Maar hoe goed is je model nu echt? TODO\n",
    "\n",
    "Train test split"
   ]
  }
 ],
 "metadata": {
  "kernelspec": {
   "display_name": ".venv",
   "language": "python",
   "name": "python3"
  },
  "language_info": {
   "codemirror_mode": {
    "name": "ipython",
    "version": 3
   },
   "file_extension": ".py",
   "mimetype": "text/x-python",
   "name": "python",
   "nbconvert_exporter": "python",
   "pygments_lexer": "ipython3",
   "version": "3.13.3"
  }
 },
 "nbformat": 4,
 "nbformat_minor": 5
}
