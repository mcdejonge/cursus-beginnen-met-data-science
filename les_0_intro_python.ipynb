{
 "cells": [
  {
   "cell_type": "markdown",
   "metadata": {},
   "source": [
    "# Beginnen met Data Science les 0: starten met Python\n",
    "\n",
    "In deze les 0 leer je hoe je Python-code schrijft en uitvoert met behulp van Jupyter notebooks. Je leert hoe je code typt in code-cellen in Jupyter notebooks en hoe je deze code uitvoert. Je leert wat variabelen zijn en welke basis datatypes je in Python tot je beschikking hebt. Na afloop van deze les kun je Python gebruiken in een Jupyter notebook om sommetjes uit te rekenen. Dit geeft je een goede basis om de overige lessen van deze cursus te kunnen volgen: in de basis gebeurt daar namelijk het precies hetzelfde als in deze les 0 alleen worden de sommetjes wat ingewikkelder."
   ]
  },
  {
   "cell_type": "markdown",
   "metadata": {},
   "source": [
    "## 0.0 Jupyter notebooks\n",
    "\n",
    "In deze cursus voeren we onze Python-code uit met behulp van bestanden die \"Jupyter notebooks\" worden genoemd. Een Jupyter notebook is een bestand dat bestaat uit een combinatie van tekst (zoals deze uitleg), programmacode en de uitvoer van die programmacode. Data Scientists werken graag met Jupyter notebooks omdat het ze in staat stelt de code van hun werk netjes te bewaren bij de uitleg van die code en bij het resultaat van het werk.\n",
    "\n",
    "Een Jupyter notebook bestaat uit zogenoemde cellen. Een cel kan ofwel programmacode bevatten ofwel tekst. Wat je nu leest, is bijvoorbeeld een cel met tekst.\n",
    "\n",
    "Voor tekst wordt vaak (zoals ook in dit notebook) de opmaaktaal Markdown gebruikt. Deze opmaaktaal bevat eenvoudige codes om tekst *schuingedrukt* of **vetgedrukt** te maken en om duidelijk herkenbare tussenkoppen te maken.\n",
    "\n",
    "Een ander type cel is de code-cel. Deze cellen bevatten programmacode. Elke cel heeft een \"play\"-knop (een driehoekje) waarmee je de inhoud van die cel kunt uitvoeren. Voor cellen met tekst is dat uiteraard niet nuttig, maar voor cellen met code wél: je voert dan de code uit die in die cel staat.\n",
    "\n",
    "Het resultaat van het uitvoeren van die code wordt vervolgens onder de cel met code getoond. Merk op dat de uitvoer van code zelf *niet* in een cel staat: de uitvoer is gekoppeld aan de code-cel die de uitvoer heeft gemaakt. Als je de code in de cel opnieuw uitvoert, verdwijnt de eerder gemaakte uitvoer en wordt de uitvoer getoond van de code die je opnieuw hebt uitgevoerd.\n",
    "\n",
    "Er zijn allemaal manieren om Jupyter notebooks uit te voeren. Als je de juiste bestanden hebt geïnstalleerd ([Anaconda](https://www.anaconda.com/) is bijvoorbeeld een goede optie hiervoor) kun je in je browser notebooks openen en bewerken.\n",
    "\n",
    "Tijdens deze cursus hoef je Anaconda niet te installeren. In plaats daarvan krijg je links naar notebooks die je kunt openen op https://colab.research.google.com/ . Je hoeft dan niets aan passen op de inrichting van je computer."
   ]
  },
  {
   "cell_type": "markdown",
   "metadata": {},
   "source": [
    "## 0.1 Hello World\n",
    "\n",
    "Programmeurs hebben een traditie dat het eerste dat ze doen wanneer ze een nieuwe programmeertaal leren is dat ze de tekst \"Hello world\" op het scherm weergeven. Dat gaan wij ook doen.\n",
    "\n",
    "Tekst weergeven doe je in Python door de volgende opdracht in een code-cel te typen en vervolgens op de play-knop te klikken: **print(\"Hello world\")**\n",
    "\n",
    "Type deze opdracht in de code-cel hieronder en klik op \"Play\". Gefeliciteerd: je hebt zojuist je eerste Python-programma geschreven!"
   ]
  },
  {
   "cell_type": "code",
   "execution_count": 42,
   "metadata": {},
   "outputs": [],
   "source": [
    "# Schrijf hieronder je Python-code. Regels die beginnen met een hekje (#) worden gezien als commentaar en worden niet uitgevoerd."
   ]
  },
  {
   "cell_type": "markdown",
   "metadata": {},
   "source": [
    "## 0.2 Rekenen\n",
    "\n",
    "Python is buitengewoon geschikt als rekenmachine. Je kunt sommetjes invoeren in een code-cel en als je vervolgens op de play-knop klikt, wordt je sommetje uitgevoerd en krijg je het resultaat te zien. Probeer maar:"
   ]
  },
  {
   "cell_type": "code",
   "execution_count": 43,
   "metadata": {},
   "outputs": [
    {
     "data": {
      "text/plain": [
       "2"
      ]
     },
     "execution_count": 43,
     "metadata": {},
     "output_type": "execute_result"
    }
   ],
   "source": [
    "1 + 1"
   ]
  },
  {
   "cell_type": "markdown",
   "metadata": {},
   "source": [
    "Sommetjes schrijven in Python werkt in principe zoals je dat gewend bent. Wel moet je erop letten dat je de juiste operatoren gebruikt:\n",
    "\n",
    "- `+`: Optellen\n",
    "- `-`: Aftrekken\n",
    "- `/`: Delen\n",
    "- `*`: Vermenigvuldigen\n",
    "- `**`: Machtverheffen\n",
    "- `%`: Modulo (geeft de rest wanneer je het getal links van de operator deelt door het getal rechts ervan. `4%2` levert `0` op en `3%2` levert `1` op).\n",
    "\n",
    "Gebruik haakjes om de volgorde van de operaties in te stellen: `(1 + 2) * 3` levert een ander resultaat op dan `1 + (2 * 3)`."
   ]
  },
  {
   "cell_type": "code",
   "execution_count": 44,
   "metadata": {},
   "outputs": [],
   "source": [
    "# Probeer in deze code-cel wat sommetjes uit."
   ]
  },
  {
   "cell_type": "markdown",
   "metadata": {},
   "source": [
    "## 0.3 Variabelen\n",
    "\n",
    "Wellicht is het je opgevallen dat Python alleen het resultaat van het laatste sommetje weergeeft wanneer je meer dan één sommetje in een code-cel typt. De andere sommetjes worden weliswaar uitgevoerd maar het resultaat verdwijnt<sup>1</sup>. Dat is natuurlijk jammer, vooral omdat we vaak het resultaat van meerdere tussenberekeningen willen bewaren om te gebruiken in de één of andere eindberekening. Bijvoorbeeld:\n",
    "\n",
    "> km_stand_begin = 1300\n",
    ">\n",
    "> km_stand_eind = 1500\n",
    "> \n",
    "> inhoud_tank_begin = 38\n",
    ">\n",
    "> inhoud_tank_eind =  28\n",
    "> \n",
    "> gereden_km = km_stand_eind - km_stand_begin\n",
    "> \n",
    "> liters_verbruikt = inhoud_tank_eind - inhoud_tank_begin\n",
    "> \n",
    "> verbruik_km = gereden_km / liters_verbruikt\n",
    "\n",
    "Gelukkig stelt Python ons in staat om, net als in dit voorbeeld, resultaten van tussenliggende berekeningen ergens op te slaan. Sterker nog, dat werkt precies hetzelfde als in het voorbeeld hierboven. Probeer de code hierboven maar eens uit te voeren in de code-cel hieronder. Als je onderaan deze code een extra regel typt met daarin `verbruik_km` krijg je het verbruik per kilometer te zien.\n",
    "\n",
    "<sup>1</sup> <small>: Tenzij je Python expliciet de opdracht geeft dat het resultaat van je sommetje weergegeven moet worden met het commando `print` dat je eerder hebt gezien:\n",
    "\n",
    "`print((1 + (2 * 3)))`\n",
    "</small>"
   ]
  },
  {
   "cell_type": "code",
   "execution_count": 45,
   "metadata": {},
   "outputs": [],
   "source": [
    "# Bereken hier het verbruik per kilometer (gebruik de code hierboven)"
   ]
  },
  {
   "cell_type": "markdown",
   "metadata": {},
   "source": [
    "Zo'n \"ding\" waar je het resultaat van een tussenberekening opslaat (of een getal waar je een naam aan wil geven) heet een **variabele**. Een variabele is de naam die je geeft aan een plek in het geheugen van de computer waar je wat gegevens opslaat. Je kunt ze niet alleen voor getallen gebruiken, maar ook voor stukken tekst (zie hieronder) en zelfs voor complete verzamelingen met data (zie de overige lessen uit deze cursus).\n",
    "\n",
    "Variabelen mogen in Python vrijwel iedere naam hebben die je kunt bedenken, mits je je houdt aan een paar regels:\n",
    "\n",
    "- De naam van een variabele **moet** beginnen met een letter (hoofdletter of kleine letter): `var1` is prima, `1var` is niet toegestaan en `VaR1` wel.\n",
    "- De naam van je variabele mag **alleen** de volgende tekens bevatten: letters (hoofdletters of kleine letters), cijfers, min-tekens (`-`) en underscores (`_`)<sup>1</sup>. Wel toegestaan: `dit_is_een_variabele3`. Niet toegestaan: `dit!is+EenVariabele`. Ook toegestaan: `dit-is-een-variabele-234`.\n",
    "- **Je mag je variabele geen naam geven die in Python iets betekent**. \"Iets betekent\" houdt in dat het de naam is van een opdracht in Python, zoals bijvoorbeeld de opdracht `print` die we al zijn tegengekomen. Er zijn er echter veel meer. Wil je weten welke woorden allemaal verboden zijn, voer dan eens de  code hieronder uit.\n",
    "\n",
    "\n",
    "\n",
    "<sup>1</sup> <small>:Merk op dat programmeurs en data scientists hoofdpijn krijgen wanneer je min-tekens en underscores door elkaar gebruikt. Dit vinden ze bijvoorbeeld vervelend: `dit-is_een_variabele`. Meer in het algemeen kun je zeggen dat ze willen dat je consistent bent in de manier waarop je de woorden in variabelenamen die uit meerdere woorden bestaan van elkaar scheidt. Deze drie mogelijkheiden zijn bijvoorbeeld allemaal prima: `dit-is-een-variabele`, `dit_is_een_variabele` en `ditIsEenVariabele` (let op dat je het eerste woord *geen* hoofdletter geeft: de traditie schrijft voor dat dit alleen mag voor typen variabelen (klassen) die in deze cursus niet aan bod komen).</small> "
   ]
  },
  {
   "cell_type": "code",
   "execution_count": 46,
   "metadata": {},
   "outputs": [
    {
     "data": {
      "text/plain": [
       "['False',\n",
       " 'None',\n",
       " 'True',\n",
       " 'and',\n",
       " 'as',\n",
       " 'assert',\n",
       " 'async',\n",
       " 'await',\n",
       " 'break',\n",
       " 'class',\n",
       " 'continue',\n",
       " 'def',\n",
       " 'del',\n",
       " 'elif',\n",
       " 'else',\n",
       " 'except',\n",
       " 'finally',\n",
       " 'for',\n",
       " 'from',\n",
       " 'global',\n",
       " 'if',\n",
       " 'import',\n",
       " 'in',\n",
       " 'is',\n",
       " 'lambda',\n",
       " 'nonlocal',\n",
       " 'not',\n",
       " 'or',\n",
       " 'pass',\n",
       " 'raise',\n",
       " 'return',\n",
       " 'try',\n",
       " 'while',\n",
       " 'with',\n",
       " 'yield']"
      ]
     },
     "execution_count": 46,
     "metadata": {},
     "output_type": "execute_result"
    }
   ],
   "source": [
    "# Als je deze code uitvoert, krijg je alle woorden te zien die je in Python *niet* mag gebruiken als naam voor je eigen variabelen\n",
    "import keyword\n",
    "keyword.kwlist"
   ]
  },
  {
   "cell_type": "markdown",
   "metadata": {},
   "source": [
    "Variabelen geef je een waarde door er met het isgelijkteken (=) een waarde aan toe te wijzen:\n",
    "\n",
    "> var = 3\n",
    "\n",
    "Wil je de waarde wijzigen, dan doe je dat op dezelfde manier\n",
    "\n",
    "> var = 5\n"
   ]
  },
  {
   "cell_type": "markdown",
   "metadata": {},
   "source": [
    "## 0.4 Datatypen\n",
    "\n",
    "Tot nu toe hebben we alleen met gehele getallen gewerkt (1, 2, 500 enzovoort). Gehele getallen zijn echter slechts één van de soorten gegevens waar je in Python mee kunt werken.\n",
    "\n",
    "Er zijn bijvoorbeeld ook kommagetallen (met een punt in plaats van een komma omdat programmeertalen altijd werken volgens het Engelse systeem met punten in plaats van komma's): 1.0, 38.45, 0.12345 enzovoort. Wellicht ben je ze al tegengekomen toen je hierboven met sommetjes hebt geëxperimenteerd: Python zet gehele getallen automatisch om naar kommagetallen als dat nodig is: `1 / 2 = 0.5`. Een kommagetal heet in Python een \"float\".\n",
    "\n",
    "Verder zijn er stukken tekst: zogenoemde \"strings\". Als je een stuk tekst tussen aanhalingstekens plaatst, weet Python dat deze tekst geen programmacode is maar een, tsja, stuk tekst:\n",
    "\n",
    "> 'Ik ben makelaar in koffie, en woon op de Lauriergracht, No 37.'\n",
    "> \n",
    "> \"Jongens waren we, maar aardige jongens.\"\n",
    "\n",
    "Merk op dat je zowel enkele aanhalingstekens (`'`) kunt gebruiken als dubbele (`\"`) maar **niet** door elkaar. Ook kun je geen \"mooie\" aanhalingstekens gebruiken, dat wil zeggen deze: “Dit zijn geen goede aanhalingstekens voor Python.”. Dit kan soms problemen opleveren wanneer je tekst of code kopieert uit een PDF-document, een Word-document of van internet. Krijg je dan foutmeldingen (zie hieronder) die je niet verwacht, kijk dan eens goed naar je aanhalingstekens. Wellicht moet je ze vervangen door `'` of `\"`.\n",
    "\n",
    "Het is mogelijk om variabelen om te zetten van het ene datatype naar het andere. Hiervoor gebruik je de volgende opdrachten:\n",
    "- `str` : zet een variabele om naar een string. Dit lukt altijd.\n",
    "- `int` : zet een variabele om naar een geheel getal. Dit lukt alleen als de variabele eruit ziet als een geheel getal, bijvoorbeeld \"123\" of \"01\" (Python negeert eventuele voorloopnullen).\n",
    "- `float` : zet een variabele om naar een kommagetal. Dit werkt zowel met strings die te herkennen zijn als kommagetallen (**let op**: punten in plaats van komma's) zoals \"1.2\" als met gehele getallen (3).\n",
    "\n"
   ]
  },
  {
   "cell_type": "markdown",
   "metadata": {},
   "source": [
    "### 0.4.1 Waar of niet waar?\n",
    "\n",
    "Vaak is het handig om vast te kunnen leggen of iets waar is of niet waar. Hiervoor is het datatype \"boolean\" beschikbaar. Variabelen van dit type kunnen maar twee waarden hebben: `True` of `False`.\n",
    "\n",
    "Bijvoorbeeld:\n",
    "\n",
    "> regen_is_nat = True\n",
    ">\n",
    "> suiker_is_zout = False"
   ]
  },
  {
   "cell_type": "markdown",
   "metadata": {},
   "source": [
    "### 0.4.2 \"Rekenen\" met strings\n",
    "\n",
    "Hoewel strings geen getallen zijn, kun je er toch de bewerkingen `+` (optellen) en `*` (vermenigvuldigen) mee uitvoeren.\n",
    "\n",
    "Kijk hieronder eens wat er gebeurt als je de string \"a\" optelt bij de string \"b\" en vervolgens wat er gebeurt als je de string \"Hallo\" vermenigvuldigt met het getal 3.\n",
    "\n",
    "(Aftrekken en delen kan uiteraard niet - dan krijg je een foutmelding).\n",
    "\n",
    "\n"
   ]
  },
  {
   "cell_type": "code",
   "execution_count": 47,
   "metadata": {},
   "outputs": [],
   "source": [
    "# Probeer hieronder \"a\" op te tellen bij \"b\" en vervolgens \"Hallo\" te vermenigvuldigen met 3."
   ]
  },
  {
   "cell_type": "markdown",
   "metadata": {},
   "source": [
    "## 0.5 Vergelijkingen\n",
    "\n",
    "Je kunt controleren of twee variabelen gelijk zijn aan elkaar of niet. Dit doe je door vergelijkingen te maken waarbij je zogenoemde *vergelijkingsoperatoren* gebruikt. Deze operatoren plaats je tussen twee waarden die je met elkaar wil vergelijken. Ze geven `True` of `False` terug, al naar gelang de vergelijking die je wil maken.\n",
    "\n",
    "- `==` : geeft `True` terug als de twee waarden aan elkaar gelijk zijn, anders `False`.\n",
    "- `!=` : geeft `True` terug als de twee waarden juist **niet** aan elkaar gelijk zijn, anders `False`.\n",
    "- `>`: geeft `True` terug als de eerste waarde **groter** is dan de tweede, anders `False`.\n",
    "- `<`: geeft `True` terug als de eerste waarde **kleiner** is dan de tweede, anders `False`.\n",
    "- `>=`: geeft `True` terug als de eerste waarde **groter** is dan de tweede *of* er gelijk aan is, anders `False`.\n",
    "- `<=`: geeft `True` terug als de eerste waarde **kleiner** is dan de tweede *of* er gelijk aan is, anders `False`.\n",
    "\n",
    "Zie hieronder wat voorbeeldcode:"
   ]
  },
  {
   "cell_type": "code",
   "execution_count": 48,
   "metadata": {},
   "outputs": [
    {
     "data": {
      "text/plain": [
       "False"
      ]
     },
     "execution_count": 48,
     "metadata": {},
     "output_type": "execute_result"
    }
   ],
   "source": [
    "a = 1\n",
    "b = 2\n",
    "a == b # Dit is uiteraard False"
   ]
  },
  {
   "cell_type": "markdown",
   "metadata": {},
   "source": [
    "Probeer het nu zelf. Vergelijk ook eens strings en floats met integers en met elkaar. Wat gebeurt er?\n",
    "\n",
    "Kijk ook eens wat er gebeurt als je de volgende code uitvoert: `\"a\" < \"b\"`.\n"
   ]
  },
  {
   "cell_type": "code",
   "execution_count": 49,
   "metadata": {},
   "outputs": [],
   "source": [
    "# Experimenteer hier met vergelijkingen.\n",
    "\n"
   ]
  },
  {
   "cell_type": "markdown",
   "metadata": {},
   "source": [
    "Je kunt meerdere vergelijkingen met elkaar combineren door gebruik te maken van de vergelijkingsoperatoren `and`, `or`:\n",
    "\n",
    "- `and`: geeft `True` terug als de eerste waarde gelijk is aan de tweede, anders `False`.\n",
    "- `or`: geeft `True` terug als de eerste waarde `True` is *of* als de tweede waarde `True` is (*of* als allebei de waarden `True` zijn), anders `False`.\n",
    "\n",
    "Verder is er een operator `not`. Deze verandert `True` in `False` en andersom. Deze operator krijgt maar één waarde mee: `not True` levert `False` op, bijvoorbeeld.\n",
    "\n",
    "Je kunt vergelijkingen met elkaar combineren. Het is verstandig om hierbij haakjes te gebruiken zodat je het overzicht niet verliest. Bekijk de code hieronder en probeer te voorspellen of het resultaat `True` is of `False` *voordat* je de code uitvoert:"
   ]
  },
  {
   "cell_type": "code",
   "execution_count": 50,
   "metadata": {},
   "outputs": [
    {
     "data": {
      "text/plain": [
       "False"
      ]
     },
     "execution_count": 50,
     "metadata": {},
     "output_type": "execute_result"
    }
   ],
   "source": [
    "# Probeer eerst zelf te voorspellen wat het resultaat is van deze code voordat je hem uitvoert.\n",
    "(not((\"a\" == \"b\") or (3 != 4)) and (True))"
   ]
  },
  {
   "cell_type": "markdown",
   "metadata": {},
   "source": [
    "Heb je dat gedaan, bekijk dan eens wat er gebeurt als je \"and\" verandert in \"or\" in de bovenstaande code. Zie hieronder voor de aangepaste code:"
   ]
  },
  {
   "cell_type": "code",
   "execution_count": 51,
   "metadata": {},
   "outputs": [
    {
     "data": {
      "text/plain": [
       "True"
      ]
     },
     "execution_count": 51,
     "metadata": {},
     "output_type": "execute_result"
    }
   ],
   "source": [
    "# Dezelfde code als hierboven, maar \"and\" is \"or\" geworden. Kun je uitleggen waarom het resultaat anders is?\n",
    "(not((\"a\" == \"b\") or (3 != 4)) or (True))"
   ]
  },
  {
   "cell_type": "markdown",
   "metadata": {},
   "source": [
    "## 0.6 Foutmeldingen\n",
    "\n",
    "Schrijven van programmacode luistert tamelijk nauw. Een typefout is zo gemaakt en een denkfout al helemaal.\n",
    "\n",
    "Dit is bijvoorbeeld een typefout (wat gaat hier mis?):\n",
    "\n",
    "> naam = \"Matthijs'\n",
    "\n",
    "En dit is een denkfout (wat gaat hier mis?)\n",
    "\n",
    "> 3 + \"a\"\n",
    "\n",
    "Probeer beide fouten eens uit in de code-cel hieronder. Als het goed is (dwz als je de fout hebt overgenomen) verschijnt er een foutmelding."
   ]
  },
  {
   "cell_type": "code",
   "execution_count": 52,
   "metadata": {},
   "outputs": [],
   "source": [
    "# Type hier je foute code:"
   ]
  },
  {
   "cell_type": "markdown",
   "metadata": {},
   "source": [
    "Bij eenvoudige fouten zoals deze is die foutmelding nog wel te ontcijferen, maar als je straks ingewikkeldere code gaat schrijven kan het soms een hele puzzel zijn om te achterhalen wat er precies fout gaat. Het verdient aanbeveling om je code-cellen zo klein mogelijk te houden zodat je gemakkelijker kunt vaststellen waar je de fout moet zoeken (al is dat niet altijd voldoende - soms zorgt iets dat je in een eerdere code-cel doet voor een foutmelding in een code-cel verderop).\n",
    "\n",
    "De belangrijkste regel voor omgaan met foutmeldingen is de volgende:\n",
    "\n",
    "**Don't Panic**\n",
    "\n",
    "Fouten gebeuren en zijn *altijd* op te lossen door iets in je *eigen* code aan te passen."
   ]
  },
  {
   "cell_type": "markdown",
   "metadata": {},
   "source": [
    "## Opdrachten\n",
    "\n",
    "Gebruik de code-cel hieronder om de volgende opdrachten uit te voeren:\n",
    "\n",
    "### Opdracht 1: Herhalen\n",
    "\n",
    "1. Schrijf code die de string `\"Hoera!\"` drie keer achter elkaar weergeeft.\n",
    "2. Als dat is gelukt, probeer er dan eens voor te zorgen dat er een spatie staat tussen twee `\"Hoera!\"`'s.\n",
    "\n",
    "### Opdracht 2: Afronden en optellen\n",
    "\n",
    "1. Zet de float-getallen `3.5` en `3.6` om naar gehele getallen (integers) en tel ze bij elkaar op. Is dat het gewenste resultaat?\n",
    "2. De oplossing is gebruik te maken van het commando `round`. Bekijk eens wat er gebeurt als je de code `round(3.5)` uitvoert.\n",
    "3. Schrijf verbeterde code die de float-getallen `3.5` en `3.6` omzet naar de juiste gehele getallen en vervolgens bij elkaar optelt.\n",
    "\n",
    "### Opdracht 3: Fouten oplossen (1)\n",
    "\n",
    "```python\n",
    "a = 3\n",
    "b = 3\n",
    "not((a = b) or (1 == 2))\n",
    "```\n",
    "\n",
    "1. De code hierboven bevat een fout. Type de code over of kopieer hem, bekijk de foutmelding en los het probleem op. \n",
    "\n",
    "### Opdracht 4: Fouten oplossen (2)\n",
    "\n",
    "```python\n",
    "a = 3\n",
    "b = \"3\"\n",
    "(a == b)\n",
    "```\n",
    "\n",
    "1. De code hierboven produceert geen foutmelding maar is toch niet correct. Los het probleem op.\n",
    "\n",
    "### Opdracht 5: Gemiddelde berekenen\n",
    "\n",
    "1. Sla de lichaamslengte van drie van je medecursisten naar keuze op in drie variabelen.\n",
    "2. Bereken de gemiddelde lichaamslengte van de drie cursisten door de lichaamslengten bij elkaar op te tellen en te delen door het aantal cursisten.\n",
    "3. Wat moet je doen om de lichaamslengte van een extra cursist mee te nemen in je berekening?\n",
    "\n"
   ]
  },
  {
   "cell_type": "code",
   "execution_count": 53,
   "metadata": {},
   "outputs": [],
   "source": [
    "# Plaats hier je code voor de opdrachten hierboven.\n"
   ]
  }
 ],
 "metadata": {
  "kernelspec": {
   "display_name": ".venv",
   "language": "python",
   "name": "python3"
  },
  "language_info": {
   "codemirror_mode": {
    "name": "ipython",
    "version": 3
   },
   "file_extension": ".py",
   "mimetype": "text/x-python",
   "name": "python",
   "nbconvert_exporter": "python",
   "pygments_lexer": "ipython3",
   "version": "3.13.0"
  }
 },
 "nbformat": 4,
 "nbformat_minor": 2
}
